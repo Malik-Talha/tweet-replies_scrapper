{
 "cells": [
  {
   "cell_type": "markdown",
   "id": "50586385",
   "metadata": {},
   "source": [
    "# Importing libraries"
   ]
  },
  {
   "cell_type": "code",
   "execution_count": 53,
   "id": "e8a8b0ed",
   "metadata": {},
   "outputs": [],
   "source": [
    "from selenium import webdriver\n",
    "from selenium.webdriver.common.by import By\n",
    "from selenium.webdriver.support.ui import WebDriverWait\n",
    "from selenium.webdriver.support import expected_conditions as EC\n",
    "from selenium.common.exceptions import NoSuchElementException\n",
    "\n",
    "import pandas as pd\n",
    "import numpy as np\n",
    "import time"
   ]
  },
  {
   "cell_type": "markdown",
   "id": "2da0ff66",
   "metadata": {},
   "source": [
    "# initiating ChromeDriver -- To control Chrome"
   ]
  },
  {
   "cell_type": "code",
   "execution_count": 78,
   "id": "135a9ea3",
   "metadata": {},
   "outputs": [
    {
     "name": "stderr",
     "output_type": "stream",
     "text": [
      "C:\\Python37\\lib\\site-packages\\ipykernel_launcher.py:7: DeprecationWarning: executable_path has been deprecated, please pass in a Service object\n",
      "  import sys\n"
     ]
    }
   ],
   "source": [
    "# making browser headless\n",
    "options = webdriver.ChromeOptions()\n",
    "#options.add_argument('--headless')\n",
    "options.add_argument('--no-sandbox')\n",
    "\n",
    "# initiating ChromeDriver -- To control Chrome\n",
    "driver = webdriver.Chrome(executable_path='F:/__Mix Soft 1/chromedriver.exe', options=options)"
   ]
  },
  {
   "cell_type": "markdown",
   "id": "58c92852",
   "metadata": {},
   "source": [
    "# Requesting the page"
   ]
  },
  {
   "cell_type": "code",
   "execution_count": 79,
   "id": "5f913984",
   "metadata": {},
   "outputs": [],
   "source": [
    "# requesting the page\n",
    "url = 'https://twitter.com/ImranKhanPTI/status/1614535943737823232?cxt=HHwWgMC-ud_4_ecsAAAA'\n",
    "driver.get(url)\n",
    "\n",
    "# defualt wait the elements to load \n",
    "driver.implicitly_wait(20)"
   ]
  },
  {
   "cell_type": "markdown",
   "id": "99d615ac",
   "metadata": {},
   "source": [
    "# "
   ]
  },
  {
   "cell_type": "code",
   "execution_count": 56,
   "id": "48bb9183",
   "metadata": {},
   "outputs": [],
   "source": [
    "def show_more_tweets():\n",
    "    show_more = driver.find_element(By.XPATH, '//span[.=\"Show more replies\"]')\n",
    "    location = show_more.location_once_scrolled_into_view\n",
    "   \n",
    "    location['y'] -= 200\n",
    "    driver.execute_script(f'window.scrollBy(0, {location[\"y\"]});')\n",
    "    show_more.click()\n",
    "    time.sleep(5)\n",
    "\n"
   ]
  },
  {
   "cell_type": "markdown",
   "id": "51bc9ac2",
   "metadata": {},
   "source": [
    "# "
   ]
  },
  {
   "cell_type": "code",
   "execution_count": null,
   "id": "68af31eb",
   "metadata": {},
   "outputs": [],
   "source": [
    "\n",
    "def scrape(tweets):\n",
    "    tweet_boxes = driver.find_elements(By.CSS_SELECTOR, \"article[data-testid='tweet']\")\n",
    "  \n",
    "    for index, tweet_box in enumerate(tweet_boxes):\n",
    "        try:\n",
    "            user_details = tweet_box.find_element(By.CSS_SELECTOR, \"div[data-testid='User-Names'\")\n",
    "        except:\n",
    "            print(tweet_box.text)\n",
    "            break\n",
    "        user_name = user_details.find_element(By.XPATH, './div')\n",
    "        user_handle = user_name.find_element(By.XPATH , 'following-sibling::div/div/div')\n",
    "        try:\n",
    "            date = user_handle.find_element(By.XPATH, './following-sibling::div/following-sibling::div')\n",
    "        except:\n",
    "            continue\n",
    "        \n",
    "        try:\n",
    "            tweet = tweet_box.find_element(By.CSS_SELECTOR, 'div[data-testid=\"tweetText\"]')\n",
    "    \n",
    "        except:\n",
    "            continue\n",
    "        tweet = tweet_box.find_element(By.CSS_SELECTOR, 'div[data-testid=\"tweetText\"]')\n",
    "        \n",
    "        temp = tweet.find_element(By.XPATH, '..')\n",
    "        temp = temp.find_elements(By.XPATH, './following-sibling::div')\n",
    "        if (len(temp) == 0):\n",
    "            continue\n",
    "        tweet_data = temp[-1].find_element(By.XPATH, './div')\n",
    "        replies = tweet_data.find_element(By.XPATH, './div')\n",
    "        retweets = replies.find_element(By.XPATH, './following-sibling::div')\n",
    "        likes = replies.find_element(By.XPATH, 'following-sibling::div/following-sibling::div')\n",
    "        reach = likes.find_element(By.XPATH, 'following-sibling::div')\n",
    "\n",
    "          #parsing\n",
    "        tweets['Date'].append(date.text)\n",
    "        tweets['User Name'].append(user_name.text)\n",
    "        tweets['User Handle'].append(user_handle.text)\n",
    "        if(tweet.text == ''):\n",
    "            tweets['Tweet'].append(np.nan)\n",
    "        else:\n",
    "            tweets['Tweet'].append(tweet.text)\n",
    "        if(replies.text !='' and retweets.text !='' and likes.text !='' and reach.text !=''):\n",
    "            replies = replies.text.replace(',','')\n",
    "            retweets = retweets.text.replace(',','')\n",
    "            likes = likes.text.replace(',','')\n",
    "            reach = reach.text.replace(',','')\n",
    "\n",
    "            if ('K' in replies):\n",
    "                replies = int(replies.replace('K', '')) * 1000\n",
    "                tweets['Replies'].append(replies)\n",
    "            else:\n",
    "                tweets['Replies'].append(int(replies))\n",
    "            if ('K' in retweets):\n",
    "                retweets = int(retweets.replace('K', '')) * 1000\n",
    "                tweets['Retweets'].append(retweets)\n",
    "            else:\n",
    "                tweets['Retweets'].append(int(retweets))\n",
    "\n",
    "            if ('K' in likes):\n",
    "                likes = int(likes.replace('K', '')) * 1000\n",
    "                tweets['Likes'].append(likes)\n",
    "            else:\n",
    "                tweets['Likes'].append(int(likes))\n",
    "            if ('K' in reach):\n",
    "                reach = int(reach.replace('K', '')) * 1000\n",
    "                tweets['Reach'].append(reach)\n",
    "            else:\n",
    "                tweets['Reach'].append(int(reach))\n",
    "\n",
    "        else:\n",
    "            tweets['Replies'].append(replies.text)\n",
    "            tweets['Retweets'].append(retweets.text)\n",
    "            tweets['Likes'].append(likes.text)\n",
    "            tweets['Reach'].append(reach.text)\n",
    "            \n",
    "      \n"
   ]
  },
  {
   "cell_type": "markdown",
   "id": "a5fde0f6",
   "metadata": {},
   "source": [
    "# Main "
   ]
  },
  {
   "cell_type": "code",
   "execution_count": 75,
   "id": "11ef25f7",
   "metadata": {
    "scrolled": true
   },
   "outputs": [
    {
     "name": "stdout",
     "output_type": "stream",
     "text": [
      "Scraping...\n",
      "Getting More...\n"
     ]
    },
    {
     "ename": "NoSuchWindowException",
     "evalue": "Message: no such window: target window already closed\nfrom unknown error: web view not found\n  (Session info: chrome=109.0.5414.75)\nStacktrace:\nBacktrace:\n\t(No symbol) [0x01066643]\n\t(No symbol) [0x00FFBE21]\n\t(No symbol) [0x00EFDA9D]\n\t(No symbol) [0x00EDEF6A]\n\t(No symbol) [0x00F53AAB]\n\t(No symbol) [0x00F661B6]\n\t(No symbol) [0x00F4FB76]\n\t(No symbol) [0x00F249C1]\n\t(No symbol) [0x00F25E5D]\n\tGetHandleVerifier [0x012DA142+2497106]\n\tGetHandleVerifier [0x013085D3+2686691]\n\tGetHandleVerifier [0x0130BB9C+2700460]\n\tGetHandleVerifier [0x01113B10+635936]\n\t(No symbol) [0x01004A1F]\n\t(No symbol) [0x0100A418]\n\t(No symbol) [0x0100A505]\n\t(No symbol) [0x0101508B]\n\tBaseThreadInitThunk [0x75BAF989+25]\n\tRtlGetAppContainerNamedObjectPath [0x77BB5DE4+228]\n\tRtlGetAppContainerNamedObjectPath [0x77BB5DB4+180]\n",
     "output_type": "error",
     "traceback": [
      "\u001b[1;31m---------------------------------------------------------------------------\u001b[0m",
      "\u001b[1;31mNoSuchWindowException\u001b[0m                     Traceback (most recent call last)",
      "\u001b[1;32m~\\AppData\\Local\\Temp\\ipykernel_7676\\275768470.py\u001b[0m in \u001b[0;36m<module>\u001b[1;34m\u001b[0m\n\u001b[0;32m      4\u001b[0m     \u001b[0mscrape\u001b[0m\u001b[1;33m(\u001b[0m\u001b[0mtweets\u001b[0m\u001b[1;33m)\u001b[0m\u001b[1;33m\u001b[0m\u001b[1;33m\u001b[0m\u001b[0m\n\u001b[0;32m      5\u001b[0m     \u001b[0mprint\u001b[0m\u001b[1;33m(\u001b[0m\u001b[1;34m'Getting More...'\u001b[0m\u001b[1;33m)\u001b[0m\u001b[1;33m\u001b[0m\u001b[1;33m\u001b[0m\u001b[0m\n\u001b[1;32m----> 6\u001b[1;33m     \u001b[0mshow_more_tweets\u001b[0m\u001b[1;33m(\u001b[0m\u001b[1;33m)\u001b[0m\u001b[1;33m\u001b[0m\u001b[1;33m\u001b[0m\u001b[0m\n\u001b[0m\u001b[0;32m      7\u001b[0m \u001b[1;33m\u001b[0m\u001b[0m\n\u001b[0;32m      8\u001b[0m \u001b[0mscrape\u001b[0m\u001b[1;33m(\u001b[0m\u001b[0mtweets\u001b[0m\u001b[1;33m)\u001b[0m\u001b[1;33m\u001b[0m\u001b[1;33m\u001b[0m\u001b[0m\n",
      "\u001b[1;32m~\\AppData\\Local\\Temp\\ipykernel_7676\\3067348050.py\u001b[0m in \u001b[0;36mshow_more_tweets\u001b[1;34m()\u001b[0m\n\u001b[0;32m      1\u001b[0m \u001b[1;32mdef\u001b[0m \u001b[0mshow_more_tweets\u001b[0m\u001b[1;33m(\u001b[0m\u001b[1;33m)\u001b[0m\u001b[1;33m:\u001b[0m\u001b[1;33m\u001b[0m\u001b[1;33m\u001b[0m\u001b[0m\n\u001b[1;32m----> 2\u001b[1;33m     \u001b[0mshow_more\u001b[0m \u001b[1;33m=\u001b[0m \u001b[0mdriver\u001b[0m\u001b[1;33m.\u001b[0m\u001b[0mfind_element\u001b[0m\u001b[1;33m(\u001b[0m\u001b[0mBy\u001b[0m\u001b[1;33m.\u001b[0m\u001b[0mXPATH\u001b[0m\u001b[1;33m,\u001b[0m \u001b[1;34m'//span[.=\"Show more replies\"]'\u001b[0m\u001b[1;33m)\u001b[0m\u001b[1;33m\u001b[0m\u001b[1;33m\u001b[0m\u001b[0m\n\u001b[0m\u001b[0;32m      3\u001b[0m     \u001b[0mlocation\u001b[0m \u001b[1;33m=\u001b[0m \u001b[0mshow_more\u001b[0m\u001b[1;33m.\u001b[0m\u001b[0mlocation_once_scrolled_into_view\u001b[0m\u001b[1;33m\u001b[0m\u001b[1;33m\u001b[0m\u001b[0m\n\u001b[0;32m      4\u001b[0m \u001b[1;33m\u001b[0m\u001b[0m\n\u001b[0;32m      5\u001b[0m     \u001b[0mlocation\u001b[0m\u001b[1;33m[\u001b[0m\u001b[1;34m'y'\u001b[0m\u001b[1;33m]\u001b[0m \u001b[1;33m-=\u001b[0m \u001b[1;36m200\u001b[0m\u001b[1;33m\u001b[0m\u001b[1;33m\u001b[0m\u001b[0m\n",
      "\u001b[1;32mC:\\Python37\\lib\\site-packages\\selenium\\webdriver\\remote\\webdriver.py\u001b[0m in \u001b[0;36mfind_element\u001b[1;34m(self, by, value)\u001b[0m\n\u001b[0;32m    859\u001b[0m             \u001b[0mvalue\u001b[0m \u001b[1;33m=\u001b[0m \u001b[1;34m'[name=\"%s\"]'\u001b[0m \u001b[1;33m%\u001b[0m \u001b[0mvalue\u001b[0m\u001b[1;33m\u001b[0m\u001b[1;33m\u001b[0m\u001b[0m\n\u001b[0;32m    860\u001b[0m \u001b[1;33m\u001b[0m\u001b[0m\n\u001b[1;32m--> 861\u001b[1;33m         \u001b[1;32mreturn\u001b[0m \u001b[0mself\u001b[0m\u001b[1;33m.\u001b[0m\u001b[0mexecute\u001b[0m\u001b[1;33m(\u001b[0m\u001b[0mCommand\u001b[0m\u001b[1;33m.\u001b[0m\u001b[0mFIND_ELEMENT\u001b[0m\u001b[1;33m,\u001b[0m \u001b[1;33m{\u001b[0m\u001b[1;34m\"using\"\u001b[0m\u001b[1;33m:\u001b[0m \u001b[0mby\u001b[0m\u001b[1;33m,\u001b[0m \u001b[1;34m\"value\"\u001b[0m\u001b[1;33m:\u001b[0m \u001b[0mvalue\u001b[0m\u001b[1;33m}\u001b[0m\u001b[1;33m)\u001b[0m\u001b[1;33m[\u001b[0m\u001b[1;34m\"value\"\u001b[0m\u001b[1;33m]\u001b[0m\u001b[1;33m\u001b[0m\u001b[1;33m\u001b[0m\u001b[0m\n\u001b[0m\u001b[0;32m    862\u001b[0m \u001b[1;33m\u001b[0m\u001b[0m\n\u001b[0;32m    863\u001b[0m     \u001b[1;32mdef\u001b[0m \u001b[0mfind_elements\u001b[0m\u001b[1;33m(\u001b[0m\u001b[0mself\u001b[0m\u001b[1;33m,\u001b[0m \u001b[0mby\u001b[0m\u001b[1;33m=\u001b[0m\u001b[0mBy\u001b[0m\u001b[1;33m.\u001b[0m\u001b[0mID\u001b[0m\u001b[1;33m,\u001b[0m \u001b[0mvalue\u001b[0m\u001b[1;33m:\u001b[0m \u001b[0mOptional\u001b[0m\u001b[1;33m[\u001b[0m\u001b[0mstr\u001b[0m\u001b[1;33m]\u001b[0m \u001b[1;33m=\u001b[0m \u001b[1;32mNone\u001b[0m\u001b[1;33m)\u001b[0m \u001b[1;33m->\u001b[0m \u001b[0mList\u001b[0m\u001b[1;33m[\u001b[0m\u001b[0mWebElement\u001b[0m\u001b[1;33m]\u001b[0m\u001b[1;33m:\u001b[0m\u001b[1;33m\u001b[0m\u001b[1;33m\u001b[0m\u001b[0m\n",
      "\u001b[1;32mC:\\Python37\\lib\\site-packages\\selenium\\webdriver\\remote\\webdriver.py\u001b[0m in \u001b[0;36mexecute\u001b[1;34m(self, driver_command, params)\u001b[0m\n\u001b[0;32m    442\u001b[0m         \u001b[0mresponse\u001b[0m \u001b[1;33m=\u001b[0m \u001b[0mself\u001b[0m\u001b[1;33m.\u001b[0m\u001b[0mcommand_executor\u001b[0m\u001b[1;33m.\u001b[0m\u001b[0mexecute\u001b[0m\u001b[1;33m(\u001b[0m\u001b[0mdriver_command\u001b[0m\u001b[1;33m,\u001b[0m \u001b[0mparams\u001b[0m\u001b[1;33m)\u001b[0m\u001b[1;33m\u001b[0m\u001b[1;33m\u001b[0m\u001b[0m\n\u001b[0;32m    443\u001b[0m         \u001b[1;32mif\u001b[0m \u001b[0mresponse\u001b[0m\u001b[1;33m:\u001b[0m\u001b[1;33m\u001b[0m\u001b[1;33m\u001b[0m\u001b[0m\n\u001b[1;32m--> 444\u001b[1;33m             \u001b[0mself\u001b[0m\u001b[1;33m.\u001b[0m\u001b[0merror_handler\u001b[0m\u001b[1;33m.\u001b[0m\u001b[0mcheck_response\u001b[0m\u001b[1;33m(\u001b[0m\u001b[0mresponse\u001b[0m\u001b[1;33m)\u001b[0m\u001b[1;33m\u001b[0m\u001b[1;33m\u001b[0m\u001b[0m\n\u001b[0m\u001b[0;32m    445\u001b[0m             \u001b[0mresponse\u001b[0m\u001b[1;33m[\u001b[0m\u001b[1;34m\"value\"\u001b[0m\u001b[1;33m]\u001b[0m \u001b[1;33m=\u001b[0m \u001b[0mself\u001b[0m\u001b[1;33m.\u001b[0m\u001b[0m_unwrap_value\u001b[0m\u001b[1;33m(\u001b[0m\u001b[0mresponse\u001b[0m\u001b[1;33m.\u001b[0m\u001b[0mget\u001b[0m\u001b[1;33m(\u001b[0m\u001b[1;34m\"value\"\u001b[0m\u001b[1;33m,\u001b[0m \u001b[1;32mNone\u001b[0m\u001b[1;33m)\u001b[0m\u001b[1;33m)\u001b[0m\u001b[1;33m\u001b[0m\u001b[1;33m\u001b[0m\u001b[0m\n\u001b[0;32m    446\u001b[0m             \u001b[1;32mreturn\u001b[0m \u001b[0mresponse\u001b[0m\u001b[1;33m\u001b[0m\u001b[1;33m\u001b[0m\u001b[0m\n",
      "\u001b[1;32mC:\\Python37\\lib\\site-packages\\selenium\\webdriver\\remote\\errorhandler.py\u001b[0m in \u001b[0;36mcheck_response\u001b[1;34m(self, response)\u001b[0m\n\u001b[0;32m    247\u001b[0m                 \u001b[0malert_text\u001b[0m \u001b[1;33m=\u001b[0m \u001b[0mvalue\u001b[0m\u001b[1;33m[\u001b[0m\u001b[1;34m\"alert\"\u001b[0m\u001b[1;33m]\u001b[0m\u001b[1;33m.\u001b[0m\u001b[0mget\u001b[0m\u001b[1;33m(\u001b[0m\u001b[1;34m\"text\"\u001b[0m\u001b[1;33m)\u001b[0m\u001b[1;33m\u001b[0m\u001b[1;33m\u001b[0m\u001b[0m\n\u001b[0;32m    248\u001b[0m             \u001b[1;32mraise\u001b[0m \u001b[0mexception_class\u001b[0m\u001b[1;33m(\u001b[0m\u001b[0mmessage\u001b[0m\u001b[1;33m,\u001b[0m \u001b[0mscreen\u001b[0m\u001b[1;33m,\u001b[0m \u001b[0mstacktrace\u001b[0m\u001b[1;33m,\u001b[0m \u001b[0malert_text\u001b[0m\u001b[1;33m)\u001b[0m  \u001b[1;31m# type: ignore[call-arg]  # mypy is not smart enough here\u001b[0m\u001b[1;33m\u001b[0m\u001b[1;33m\u001b[0m\u001b[0m\n\u001b[1;32m--> 249\u001b[1;33m         \u001b[1;32mraise\u001b[0m \u001b[0mexception_class\u001b[0m\u001b[1;33m(\u001b[0m\u001b[0mmessage\u001b[0m\u001b[1;33m,\u001b[0m \u001b[0mscreen\u001b[0m\u001b[1;33m,\u001b[0m \u001b[0mstacktrace\u001b[0m\u001b[1;33m)\u001b[0m\u001b[1;33m\u001b[0m\u001b[1;33m\u001b[0m\u001b[0m\n\u001b[0m",
      "\u001b[1;31mNoSuchWindowException\u001b[0m: Message: no such window: target window already closed\nfrom unknown error: web view not found\n  (Session info: chrome=109.0.5414.75)\nStacktrace:\nBacktrace:\n\t(No symbol) [0x01066643]\n\t(No symbol) [0x00FFBE21]\n\t(No symbol) [0x00EFDA9D]\n\t(No symbol) [0x00EDEF6A]\n\t(No symbol) [0x00F53AAB]\n\t(No symbol) [0x00F661B6]\n\t(No symbol) [0x00F4FB76]\n\t(No symbol) [0x00F249C1]\n\t(No symbol) [0x00F25E5D]\n\tGetHandleVerifier [0x012DA142+2497106]\n\tGetHandleVerifier [0x013085D3+2686691]\n\tGetHandleVerifier [0x0130BB9C+2700460]\n\tGetHandleVerifier [0x01113B10+635936]\n\t(No symbol) [0x01004A1F]\n\t(No symbol) [0x0100A418]\n\t(No symbol) [0x0100A505]\n\t(No symbol) [0x0101508B]\n\tBaseThreadInitThunk [0x75BAF989+25]\n\tRtlGetAppContainerNamedObjectPath [0x77BB5DE4+228]\n\tRtlGetAppContainerNamedObjectPath [0x77BB5DB4+180]\n"
     ]
    }
   ],
   "source": [
    "tweets = {\"Date\":[], \"User Name\":[], \"User Handle\":[], \"Tweet\":[], \"Replies\":[], \"Retweets\":[], \"Likes\":[], \"Reach\":[]}\n",
    "for i in range(10):\n",
    "    print('Scraping...')\n",
    "    scrape(tweets)\n",
    "    print('Getting More...')\n",
    "    show_more_tweets()\n",
    "    \n",
    "scrape(tweets)\n",
    "\n"
   ]
  },
  {
   "cell_type": "code",
   "execution_count": null,
   "id": "913f84ea",
   "metadata": {},
   "outputs": [],
   "source": [
    "# output\n",
    "df = pd.DataFrame(tweets)\n",
    "df"
   ]
  },
  {
   "cell_type": "code",
   "execution_count": 58,
   "id": "39d6d165",
   "metadata": {},
   "outputs": [
    {
     "data": {
      "text/html": [
       "<div>\n",
       "<style scoped>\n",
       "    .dataframe tbody tr th:only-of-type {\n",
       "        vertical-align: middle;\n",
       "    }\n",
       "\n",
       "    .dataframe tbody tr th {\n",
       "        vertical-align: top;\n",
       "    }\n",
       "\n",
       "    .dataframe thead th {\n",
       "        text-align: right;\n",
       "    }\n",
       "</style>\n",
       "<table border=\"1\" class=\"dataframe\">\n",
       "  <thead>\n",
       "    <tr style=\"text-align: right;\">\n",
       "      <th></th>\n",
       "      <th>Date</th>\n",
       "      <th>User Name</th>\n",
       "      <th>User Handle</th>\n",
       "      <th>Tweet</th>\n",
       "      <th>Replies</th>\n",
       "      <th>Retweets</th>\n",
       "      <th>Likes</th>\n",
       "      <th>Reach</th>\n",
       "    </tr>\n",
       "  </thead>\n",
       "  <tbody>\n",
       "    <tr>\n",
       "      <th>0</th>\n",
       "      <td>Jan 15</td>\n",
       "      <td>Ali.</td>\n",
       "      <td>@aliakberhabib</td>\n",
       "      <td>If only your party members would have come out...</td>\n",
       "      <td>4</td>\n",
       "      <td>1</td>\n",
       "      <td>65</td>\n",
       "      <td>7423</td>\n",
       "    </tr>\n",
       "    <tr>\n",
       "      <th>1</th>\n",
       "      <td>Jan 15</td>\n",
       "      <td>Saleem Rehman Ex-MNA</td>\n",
       "      <td>@mna_saleem</td>\n",
       "      <td>#KarachiKaptaanKa</td>\n",
       "      <td>2</td>\n",
       "      <td>3</td>\n",
       "      <td>32</td>\n",
       "      <td>3309</td>\n",
       "    </tr>\n",
       "    <tr>\n",
       "      <th>2</th>\n",
       "      <td>Jan 15</td>\n",
       "      <td>Nayyar Sohail</td>\n",
       "      <td>@nayyarsohail</td>\n",
       "      <td>A big step for democracy. Vote, if used proper...</td>\n",
       "      <td></td>\n",
       "      <td></td>\n",
       "      <td>6</td>\n",
       "      <td>2,066</td>\n",
       "    </tr>\n",
       "    <tr>\n",
       "      <th>3</th>\n",
       "      <td>Jan 15</td>\n",
       "      <td>Abid Jani Afridi</td>\n",
       "      <td>@AJ_Afridi_UK</td>\n",
       "      <td>Everyone should come out for voting</td>\n",
       "      <td></td>\n",
       "      <td></td>\n",
       "      <td>17</td>\n",
       "      <td>2,182</td>\n",
       "    </tr>\n",
       "    <tr>\n",
       "      <th>4</th>\n",
       "      <td>Jan 15</td>\n",
       "      <td>Zulqarnain Ranjha</td>\n",
       "      <td>@SahabRanjha786</td>\n",
       "      <td>جس پیمانے پر کراچی الیکشن میں دھاندلی ہو رہی ی...</td>\n",
       "      <td>4</td>\n",
       "      <td></td>\n",
       "      <td>7</td>\n",
       "      <td>2,097</td>\n",
       "    </tr>\n",
       "    <tr>\n",
       "      <th>14</th>\n",
       "      <td>Jan 15</td>\n",
       "      <td>MG Mughal</td>\n",
       "      <td>@Balance2Extreme</td>\n",
       "      <td>Good luckMr PM \\n@ImranKhanPTI\\n  \\nيا ذوالجلا...</td>\n",
       "      <td>1</td>\n",
       "      <td></td>\n",
       "      <td>5</td>\n",
       "      <td>1,900</td>\n",
       "    </tr>\n",
       "    <tr>\n",
       "      <th>15</th>\n",
       "      <td>Jan 15</td>\n",
       "      <td>Stranger</td>\n",
       "      <td>@StrangerExpose</td>\n",
       "      <td>آؤ مل کر بنائیں پاکستان اور کرپٹ مافیا سے پاک ...</td>\n",
       "      <td></td>\n",
       "      <td></td>\n",
       "      <td>4</td>\n",
       "      <td>768</td>\n",
       "    </tr>\n",
       "    <tr>\n",
       "      <th>16</th>\n",
       "      <td>Jan 15</td>\n",
       "      <td>Sumaira Imtiaz</td>\n",
       "      <td>@chaynisar</td>\n",
       "      <td></td>\n",
       "      <td>3</td>\n",
       "      <td>7</td>\n",
       "      <td>27</td>\n",
       "      <td>2569</td>\n",
       "    </tr>\n",
       "    <tr>\n",
       "      <th>17</th>\n",
       "      <td>7h</td>\n",
       "      <td>Imran Khan</td>\n",
       "      <td>@ImranKhanPTI</td>\n",
       "      <td>Strongly condemn burning of Holy Quran yesterd...</td>\n",
       "      <td>770</td>\n",
       "      <td>16200.0</td>\n",
       "      <td>41700.0</td>\n",
       "      <td>608200.0</td>\n",
       "    </tr>\n",
       "    <tr>\n",
       "      <th>18</th>\n",
       "      <td>Jan 21</td>\n",
       "      <td>Imran Khan</td>\n",
       "      <td>@ImranKhanPTI</td>\n",
       "      <td>This is rule of law where no one is above it; ...</td>\n",
       "      <td>1398</td>\n",
       "      <td>12300.0</td>\n",
       "      <td>36000.0</td>\n",
       "      <td>958000.0</td>\n",
       "    </tr>\n",
       "  </tbody>\n",
       "</table>\n",
       "</div>"
      ],
      "text/plain": [
       "      Date             User Name       User Handle  \\\n",
       "0   Jan 15                  Ali.    @aliakberhabib   \n",
       "1   Jan 15  Saleem Rehman Ex-MNA       @mna_saleem   \n",
       "2   Jan 15         Nayyar Sohail     @nayyarsohail   \n",
       "3   Jan 15      Abid Jani Afridi     @AJ_Afridi_UK   \n",
       "4   Jan 15     Zulqarnain Ranjha   @SahabRanjha786   \n",
       "14  Jan 15             MG Mughal  @Balance2Extreme   \n",
       "15  Jan 15              Stranger   @StrangerExpose   \n",
       "16  Jan 15        Sumaira Imtiaz        @chaynisar   \n",
       "17      7h            Imran Khan     @ImranKhanPTI   \n",
       "18  Jan 21            Imran Khan     @ImranKhanPTI   \n",
       "\n",
       "                                                Tweet Replies Retweets  \\\n",
       "0   If only your party members would have come out...       4        1   \n",
       "1                                   #KarachiKaptaanKa       2        3   \n",
       "2   A big step for democracy. Vote, if used proper...                    \n",
       "3                Everyone should come out for voting                     \n",
       "4   جس پیمانے پر کراچی الیکشن میں دھاندلی ہو رہی ی...       4            \n",
       "14  Good luckMr PM \\n@ImranKhanPTI\\n  \\nيا ذوالجلا...       1            \n",
       "15  آؤ مل کر بنائیں پاکستان اور کرپٹ مافیا سے پاک ...                    \n",
       "16                                                          3        7   \n",
       "17  Strongly condemn burning of Holy Quran yesterd...     770  16200.0   \n",
       "18  This is rule of law where no one is above it; ...    1398  12300.0   \n",
       "\n",
       "      Likes     Reach  \n",
       "0        65      7423  \n",
       "1        32      3309  \n",
       "2         6     2,066  \n",
       "3        17     2,182  \n",
       "4         7     2,097  \n",
       "14        5     1,900  \n",
       "15        4       768  \n",
       "16       27      2569  \n",
       "17  41700.0  608200.0  \n",
       "18  36000.0  958000.0  "
      ]
     },
     "execution_count": 58,
     "metadata": {},
     "output_type": "execute_result"
    }
   ],
   "source": [
    "uni = df.drop_duplicates()\n",
    "uni.dropna()"
   ]
  },
  {
   "cell_type": "code",
   "execution_count": 67,
   "id": "d1076f89",
   "metadata": {},
   "outputs": [],
   "source": [
    "show_more_tweets()"
   ]
  },
  {
   "cell_type": "code",
   "execution_count": null,
   "id": "f8192d44",
   "metadata": {},
   "outputs": [],
   "source": []
  }
 ],
 "metadata": {
  "kernelspec": {
   "display_name": "Python 3 (ipykernel)",
   "language": "python",
   "name": "python3"
  },
  "language_info": {
   "codemirror_mode": {
    "name": "ipython",
    "version": 3
   },
   "file_extension": ".py",
   "mimetype": "text/x-python",
   "name": "python",
   "nbconvert_exporter": "python",
   "pygments_lexer": "ipython3",
   "version": "3.7.7"
  }
 },
 "nbformat": 4,
 "nbformat_minor": 5
}
